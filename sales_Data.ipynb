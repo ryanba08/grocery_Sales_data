{
  "nbformat": 4,
  "nbformat_minor": 0,
  "metadata": {
    "colab": {
      "name": "sales_Data.ipynb",
      "provenance": [],
      "collapsed_sections": []
    },
    "kernelspec": {
      "name": "python3",
      "display_name": "Python 3"
    },
    "language_info": {
      "name": "python"
    }
  },
  "cells": [
    {
      "cell_type": "code",
      "source": [
        "from google.colab import drive\n",
        "drive.mount('/content/drive')"
      ],
      "metadata": {
        "id": "1GRmenVYQfas",
        "outputId": "a6c847ee-60a0-452a-8c21-9b5968796689",
        "colab": {
          "base_uri": "https://localhost:8080/"
        }
      },
      "execution_count": 1,
      "outputs": [
        {
          "output_type": "stream",
          "name": "stdout",
          "text": [
            "Drive already mounted at /content/drive; to attempt to forcibly remount, call drive.mount(\"/content/drive\", force_remount=True).\n"
          ]
        }
      ]
    },
    {
      "cell_type": "code",
      "metadata": {
        "colab": {
          "base_uri": "https://localhost:8080/",
          "height": 337
        },
        "id": "Ny3FinM345lP",
        "outputId": "021c85df-af82-4bd0-d638-fd8198c37897"
      },
      "source": [
        "import numpy as np\n",
        "import pandas as pd\n",
        "from google.colab import files\n",
        "df = pd.read_csv('/content/drive/MyDrive/CODING/sales_predictions.csv')\n",
        "df.head()"
      ],
      "execution_count": 2,
      "outputs": [
        {
          "output_type": "execute_result",
          "data": {
            "text/html": [
              "\n",
              "  <div id=\"df-cd746ecc-e0e9-4746-bbbd-47620afc9a8a\">\n",
              "    <div class=\"colab-df-container\">\n",
              "      <div>\n",
              "<style scoped>\n",
              "    .dataframe tbody tr th:only-of-type {\n",
              "        vertical-align: middle;\n",
              "    }\n",
              "\n",
              "    .dataframe tbody tr th {\n",
              "        vertical-align: top;\n",
              "    }\n",
              "\n",
              "    .dataframe thead th {\n",
              "        text-align: right;\n",
              "    }\n",
              "</style>\n",
              "<table border=\"1\" class=\"dataframe\">\n",
              "  <thead>\n",
              "    <tr style=\"text-align: right;\">\n",
              "      <th></th>\n",
              "      <th>Item_Identifier</th>\n",
              "      <th>Item_Weight</th>\n",
              "      <th>Item_Fat_Content</th>\n",
              "      <th>Item_Visibility</th>\n",
              "      <th>Item_Type</th>\n",
              "      <th>Item_MRP</th>\n",
              "      <th>Outlet_Identifier</th>\n",
              "      <th>Outlet_Establishment_Year</th>\n",
              "      <th>Outlet_Size</th>\n",
              "      <th>Outlet_Location_Type</th>\n",
              "      <th>Outlet_Type</th>\n",
              "      <th>Item_Outlet_Sales</th>\n",
              "    </tr>\n",
              "  </thead>\n",
              "  <tbody>\n",
              "    <tr>\n",
              "      <th>0</th>\n",
              "      <td>FDA15</td>\n",
              "      <td>9.30</td>\n",
              "      <td>Low Fat</td>\n",
              "      <td>0.016047</td>\n",
              "      <td>Dairy</td>\n",
              "      <td>249.8092</td>\n",
              "      <td>OUT049</td>\n",
              "      <td>1999</td>\n",
              "      <td>Medium</td>\n",
              "      <td>Tier 1</td>\n",
              "      <td>Supermarket Type1</td>\n",
              "      <td>3735.1380</td>\n",
              "    </tr>\n",
              "    <tr>\n",
              "      <th>1</th>\n",
              "      <td>DRC01</td>\n",
              "      <td>5.92</td>\n",
              "      <td>Regular</td>\n",
              "      <td>0.019278</td>\n",
              "      <td>Soft Drinks</td>\n",
              "      <td>48.2692</td>\n",
              "      <td>OUT018</td>\n",
              "      <td>2009</td>\n",
              "      <td>Medium</td>\n",
              "      <td>Tier 3</td>\n",
              "      <td>Supermarket Type2</td>\n",
              "      <td>443.4228</td>\n",
              "    </tr>\n",
              "    <tr>\n",
              "      <th>2</th>\n",
              "      <td>FDN15</td>\n",
              "      <td>17.50</td>\n",
              "      <td>Low Fat</td>\n",
              "      <td>0.016760</td>\n",
              "      <td>Meat</td>\n",
              "      <td>141.6180</td>\n",
              "      <td>OUT049</td>\n",
              "      <td>1999</td>\n",
              "      <td>Medium</td>\n",
              "      <td>Tier 1</td>\n",
              "      <td>Supermarket Type1</td>\n",
              "      <td>2097.2700</td>\n",
              "    </tr>\n",
              "    <tr>\n",
              "      <th>3</th>\n",
              "      <td>FDX07</td>\n",
              "      <td>19.20</td>\n",
              "      <td>Regular</td>\n",
              "      <td>0.000000</td>\n",
              "      <td>Fruits and Vegetables</td>\n",
              "      <td>182.0950</td>\n",
              "      <td>OUT010</td>\n",
              "      <td>1998</td>\n",
              "      <td>NaN</td>\n",
              "      <td>Tier 3</td>\n",
              "      <td>Grocery Store</td>\n",
              "      <td>732.3800</td>\n",
              "    </tr>\n",
              "    <tr>\n",
              "      <th>4</th>\n",
              "      <td>NCD19</td>\n",
              "      <td>8.93</td>\n",
              "      <td>Low Fat</td>\n",
              "      <td>0.000000</td>\n",
              "      <td>Household</td>\n",
              "      <td>53.8614</td>\n",
              "      <td>OUT013</td>\n",
              "      <td>1987</td>\n",
              "      <td>High</td>\n",
              "      <td>Tier 3</td>\n",
              "      <td>Supermarket Type1</td>\n",
              "      <td>994.7052</td>\n",
              "    </tr>\n",
              "  </tbody>\n",
              "</table>\n",
              "</div>\n",
              "      <button class=\"colab-df-convert\" onclick=\"convertToInteractive('df-cd746ecc-e0e9-4746-bbbd-47620afc9a8a')\"\n",
              "              title=\"Convert this dataframe to an interactive table.\"\n",
              "              style=\"display:none;\">\n",
              "        \n",
              "  <svg xmlns=\"http://www.w3.org/2000/svg\" height=\"24px\"viewBox=\"0 0 24 24\"\n",
              "       width=\"24px\">\n",
              "    <path d=\"M0 0h24v24H0V0z\" fill=\"none\"/>\n",
              "    <path d=\"M18.56 5.44l.94 2.06.94-2.06 2.06-.94-2.06-.94-.94-2.06-.94 2.06-2.06.94zm-11 1L8.5 8.5l.94-2.06 2.06-.94-2.06-.94L8.5 2.5l-.94 2.06-2.06.94zm10 10l.94 2.06.94-2.06 2.06-.94-2.06-.94-.94-2.06-.94 2.06-2.06.94z\"/><path d=\"M17.41 7.96l-1.37-1.37c-.4-.4-.92-.59-1.43-.59-.52 0-1.04.2-1.43.59L10.3 9.45l-7.72 7.72c-.78.78-.78 2.05 0 2.83L4 21.41c.39.39.9.59 1.41.59.51 0 1.02-.2 1.41-.59l7.78-7.78 2.81-2.81c.8-.78.8-2.07 0-2.86zM5.41 20L4 18.59l7.72-7.72 1.47 1.35L5.41 20z\"/>\n",
              "  </svg>\n",
              "      </button>\n",
              "      \n",
              "  <style>\n",
              "    .colab-df-container {\n",
              "      display:flex;\n",
              "      flex-wrap:wrap;\n",
              "      gap: 12px;\n",
              "    }\n",
              "\n",
              "    .colab-df-convert {\n",
              "      background-color: #E8F0FE;\n",
              "      border: none;\n",
              "      border-radius: 50%;\n",
              "      cursor: pointer;\n",
              "      display: none;\n",
              "      fill: #1967D2;\n",
              "      height: 32px;\n",
              "      padding: 0 0 0 0;\n",
              "      width: 32px;\n",
              "    }\n",
              "\n",
              "    .colab-df-convert:hover {\n",
              "      background-color: #E2EBFA;\n",
              "      box-shadow: 0px 1px 2px rgba(60, 64, 67, 0.3), 0px 1px 3px 1px rgba(60, 64, 67, 0.15);\n",
              "      fill: #174EA6;\n",
              "    }\n",
              "\n",
              "    [theme=dark] .colab-df-convert {\n",
              "      background-color: #3B4455;\n",
              "      fill: #D2E3FC;\n",
              "    }\n",
              "\n",
              "    [theme=dark] .colab-df-convert:hover {\n",
              "      background-color: #434B5C;\n",
              "      box-shadow: 0px 1px 3px 1px rgba(0, 0, 0, 0.15);\n",
              "      filter: drop-shadow(0px 1px 2px rgba(0, 0, 0, 0.3));\n",
              "      fill: #FFFFFF;\n",
              "    }\n",
              "  </style>\n",
              "\n",
              "      <script>\n",
              "        const buttonEl =\n",
              "          document.querySelector('#df-cd746ecc-e0e9-4746-bbbd-47620afc9a8a button.colab-df-convert');\n",
              "        buttonEl.style.display =\n",
              "          google.colab.kernel.accessAllowed ? 'block' : 'none';\n",
              "\n",
              "        async function convertToInteractive(key) {\n",
              "          const element = document.querySelector('#df-cd746ecc-e0e9-4746-bbbd-47620afc9a8a');\n",
              "          const dataTable =\n",
              "            await google.colab.kernel.invokeFunction('convertToInteractive',\n",
              "                                                     [key], {});\n",
              "          if (!dataTable) return;\n",
              "\n",
              "          const docLinkHtml = 'Like what you see? Visit the ' +\n",
              "            '<a target=\"_blank\" href=https://colab.research.google.com/notebooks/data_table.ipynb>data table notebook</a>'\n",
              "            + ' to learn more about interactive tables.';\n",
              "          element.innerHTML = '';\n",
              "          dataTable['output_type'] = 'display_data';\n",
              "          await google.colab.output.renderOutput(dataTable, element);\n",
              "          const docLink = document.createElement('div');\n",
              "          docLink.innerHTML = docLinkHtml;\n",
              "          element.appendChild(docLink);\n",
              "        }\n",
              "      </script>\n",
              "    </div>\n",
              "  </div>\n",
              "  "
            ],
            "text/plain": [
              "  Item_Identifier  Item_Weight  ...        Outlet_Type  Item_Outlet_Sales\n",
              "0           FDA15         9.30  ...  Supermarket Type1          3735.1380\n",
              "1           DRC01         5.92  ...  Supermarket Type2           443.4228\n",
              "2           FDN15        17.50  ...  Supermarket Type1          2097.2700\n",
              "3           FDX07        19.20  ...      Grocery Store           732.3800\n",
              "4           NCD19         8.93  ...  Supermarket Type1           994.7052\n",
              "\n",
              "[5 rows x 12 columns]"
            ]
          },
          "metadata": {},
          "execution_count": 2
        }
      ]
    },
    {
      "cell_type": "code",
      "source": [
        "df.info()"
      ],
      "metadata": {
        "colab": {
          "base_uri": "https://localhost:8080/"
        },
        "id": "IVF2lX8RGI00",
        "outputId": "2e2d4119-83ac-4dbf-ba67-9e9d6eb36a09"
      },
      "execution_count": 3,
      "outputs": [
        {
          "output_type": "stream",
          "name": "stdout",
          "text": [
            "<class 'pandas.core.frame.DataFrame'>\n",
            "RangeIndex: 8523 entries, 0 to 8522\n",
            "Data columns (total 12 columns):\n",
            " #   Column                     Non-Null Count  Dtype  \n",
            "---  ------                     --------------  -----  \n",
            " 0   Item_Identifier            8523 non-null   object \n",
            " 1   Item_Weight                7060 non-null   float64\n",
            " 2   Item_Fat_Content           8523 non-null   object \n",
            " 3   Item_Visibility            8523 non-null   float64\n",
            " 4   Item_Type                  8523 non-null   object \n",
            " 5   Item_MRP                   8523 non-null   float64\n",
            " 6   Outlet_Identifier          8523 non-null   object \n",
            " 7   Outlet_Establishment_Year  8523 non-null   int64  \n",
            " 8   Outlet_Size                6113 non-null   object \n",
            " 9   Outlet_Location_Type       8523 non-null   object \n",
            " 10  Outlet_Type                8523 non-null   object \n",
            " 11  Item_Outlet_Sales          8523 non-null   float64\n",
            "dtypes: float64(4), int64(1), object(7)\n",
            "memory usage: 799.2+ KB\n"
          ]
        }
      ]
    },
    {
      "cell_type": "code",
      "source": [
        "df.dtypes"
      ],
      "metadata": {
        "colab": {
          "base_uri": "https://localhost:8080/"
        },
        "id": "dQFnXHMiGLjq",
        "outputId": "b4cab515-5c08-43bb-d7fd-94f887c691b9"
      },
      "execution_count": 4,
      "outputs": [
        {
          "output_type": "execute_result",
          "data": {
            "text/plain": [
              "Item_Identifier               object\n",
              "Item_Weight                  float64\n",
              "Item_Fat_Content              object\n",
              "Item_Visibility              float64\n",
              "Item_Type                     object\n",
              "Item_MRP                     float64\n",
              "Outlet_Identifier             object\n",
              "Outlet_Establishment_Year      int64\n",
              "Outlet_Size                   object\n",
              "Outlet_Location_Type          object\n",
              "Outlet_Type                   object\n",
              "Item_Outlet_Sales            float64\n",
              "dtype: object"
            ]
          },
          "metadata": {},
          "execution_count": 4
        }
      ]
    },
    {
      "cell_type": "code",
      "source": [
        "df.duplicated().sum()"
      ],
      "metadata": {
        "colab": {
          "base_uri": "https://localhost:8080/"
        },
        "id": "QzIVu8KvGNkv",
        "outputId": "b0b50755-9b5c-42a7-e623-43e575087254"
      },
      "execution_count": 5,
      "outputs": [
        {
          "output_type": "execute_result",
          "data": {
            "text/plain": [
              "0"
            ]
          },
          "metadata": {},
          "execution_count": 5
        }
      ]
    },
    {
      "cell_type": "code",
      "source": [
        "df.isna().sum()"
      ],
      "metadata": {
        "colab": {
          "base_uri": "https://localhost:8080/"
        },
        "id": "fzuTJvB1GSgk",
        "outputId": "dc986278-a841-4a81-9d0f-e5465d923054"
      },
      "execution_count": 6,
      "outputs": [
        {
          "output_type": "execute_result",
          "data": {
            "text/plain": [
              "Item_Identifier                 0\n",
              "Item_Weight                  1463\n",
              "Item_Fat_Content                0\n",
              "Item_Visibility                 0\n",
              "Item_Type                       0\n",
              "Item_MRP                        0\n",
              "Outlet_Identifier               0\n",
              "Outlet_Establishment_Year       0\n",
              "Outlet_Size                  2410\n",
              "Outlet_Location_Type            0\n",
              "Outlet_Type                     0\n",
              "Item_Outlet_Sales               0\n",
              "dtype: int64"
            ]
          },
          "metadata": {},
          "execution_count": 6
        }
      ]
    },
    {
      "cell_type": "code",
      "source": [
        "#need to fill in item weight with imputer will be below"
      ],
      "metadata": {
        "id": "n7e5ZxNsGb-9"
      },
      "execution_count": 7,
      "outputs": []
    },
    {
      "cell_type": "code",
      "source": [
        "df.isna().sum()"
      ],
      "metadata": {
        "colab": {
          "base_uri": "https://localhost:8080/"
        },
        "id": "Ebimqr57Gq0x",
        "outputId": "fb41cc84-7611-49da-fa5b-dcfefc051dc9"
      },
      "execution_count": 8,
      "outputs": [
        {
          "output_type": "execute_result",
          "data": {
            "text/plain": [
              "Item_Identifier                 0\n",
              "Item_Weight                  1463\n",
              "Item_Fat_Content                0\n",
              "Item_Visibility                 0\n",
              "Item_Type                       0\n",
              "Item_MRP                        0\n",
              "Outlet_Identifier               0\n",
              "Outlet_Establishment_Year       0\n",
              "Outlet_Size                  2410\n",
              "Outlet_Location_Type            0\n",
              "Outlet_Type                     0\n",
              "Item_Outlet_Sales               0\n",
              "dtype: int64"
            ]
          },
          "metadata": {},
          "execution_count": 8
        }
      ]
    },
    {
      "cell_type": "code",
      "source": [
        "grocery_Type = df['Outlet_Type'] =='Grocery Store'\n",
        "df[grocery_Type].info()"
      ],
      "metadata": {
        "colab": {
          "base_uri": "https://localhost:8080/"
        },
        "id": "B7HQtxwMHEoF",
        "outputId": "29223fe1-061b-4634-d938-0d40eadb7feb"
      },
      "execution_count": 9,
      "outputs": [
        {
          "output_type": "stream",
          "name": "stdout",
          "text": [
            "<class 'pandas.core.frame.DataFrame'>\n",
            "Int64Index: 1083 entries, 3 to 8509\n",
            "Data columns (total 12 columns):\n",
            " #   Column                     Non-Null Count  Dtype  \n",
            "---  ------                     --------------  -----  \n",
            " 0   Item_Identifier            1083 non-null   object \n",
            " 1   Item_Weight                555 non-null    float64\n",
            " 2   Item_Fat_Content           1083 non-null   object \n",
            " 3   Item_Visibility            1083 non-null   float64\n",
            " 4   Item_Type                  1083 non-null   object \n",
            " 5   Item_MRP                   1083 non-null   float64\n",
            " 6   Outlet_Identifier          1083 non-null   object \n",
            " 7   Outlet_Establishment_Year  1083 non-null   int64  \n",
            " 8   Outlet_Size                528 non-null    object \n",
            " 9   Outlet_Location_Type       1083 non-null   object \n",
            " 10  Outlet_Type                1083 non-null   object \n",
            " 11  Item_Outlet_Sales          1083 non-null   float64\n",
            "dtypes: float64(4), int64(1), object(7)\n",
            "memory usage: 110.0+ KB\n"
          ]
        }
      ]
    },
    {
      "cell_type": "code",
      "source": [
        "df[grocery_Type]['Outlet_Size'].value_counts()\n",
        "small_Value = 'Small'\n",
        "df.loc[grocery_Type,'Outlet_Size'] = small_Value\n",
        "#noticed all grocery stores are type small or nan so filled them in small"
      ],
      "metadata": {
        "id": "iuPR7ihnHj9w"
      },
      "execution_count": 10,
      "outputs": []
    },
    {
      "cell_type": "code",
      "source": [
        "df.isna().sum()"
      ],
      "metadata": {
        "colab": {
          "base_uri": "https://localhost:8080/"
        },
        "id": "mxMC2DfAIWcx",
        "outputId": "d3ff6d4d-6a8c-459e-acfd-f28ae5d68fcf"
      },
      "execution_count": 11,
      "outputs": [
        {
          "output_type": "execute_result",
          "data": {
            "text/plain": [
              "Item_Identifier                 0\n",
              "Item_Weight                  1463\n",
              "Item_Fat_Content                0\n",
              "Item_Visibility                 0\n",
              "Item_Type                       0\n",
              "Item_MRP                        0\n",
              "Outlet_Identifier               0\n",
              "Outlet_Establishment_Year       0\n",
              "Outlet_Size                  1855\n",
              "Outlet_Location_Type            0\n",
              "Outlet_Type                     0\n",
              "Item_Outlet_Sales               0\n",
              "dtype: int64"
            ]
          },
          "metadata": {},
          "execution_count": 11
        }
      ]
    },
    {
      "cell_type": "code",
      "source": [
        "df.groupby(['Outlet_Location_Type','Outlet_Size']).sum()\n"
      ],
      "metadata": {
        "colab": {
          "base_uri": "https://localhost:8080/",
          "height": 269
        },
        "id": "9FXvXOYwMKqB",
        "outputId": "65d9ae60-6465-4fc5-efe5-9d43c3c87833"
      },
      "execution_count": 12,
      "outputs": [
        {
          "output_type": "execute_result",
          "data": {
            "text/html": [
              "\n",
              "  <div id=\"df-9a286787-0b81-48f7-bb32-4174095b80e0\">\n",
              "    <div class=\"colab-df-container\">\n",
              "      <div>\n",
              "<style scoped>\n",
              "    .dataframe tbody tr th:only-of-type {\n",
              "        vertical-align: middle;\n",
              "    }\n",
              "\n",
              "    .dataframe tbody tr th {\n",
              "        vertical-align: top;\n",
              "    }\n",
              "\n",
              "    .dataframe thead th {\n",
              "        text-align: right;\n",
              "    }\n",
              "</style>\n",
              "<table border=\"1\" class=\"dataframe\">\n",
              "  <thead>\n",
              "    <tr style=\"text-align: right;\">\n",
              "      <th></th>\n",
              "      <th></th>\n",
              "      <th>Item_Weight</th>\n",
              "      <th>Item_Visibility</th>\n",
              "      <th>Item_MRP</th>\n",
              "      <th>Outlet_Establishment_Year</th>\n",
              "      <th>Item_Outlet_Sales</th>\n",
              "    </tr>\n",
              "    <tr>\n",
              "      <th>Outlet_Location_Type</th>\n",
              "      <th>Outlet_Size</th>\n",
              "      <th></th>\n",
              "      <th></th>\n",
              "      <th></th>\n",
              "      <th></th>\n",
              "      <th></th>\n",
              "    </tr>\n",
              "  </thead>\n",
              "  <tbody>\n",
              "    <tr>\n",
              "      <th rowspan=\"2\" valign=\"top\">Tier 1</th>\n",
              "      <th>Medium</th>\n",
              "      <td>12013.225</td>\n",
              "      <td>56.549156</td>\n",
              "      <td>130476.8598</td>\n",
              "      <td>1859070</td>\n",
              "      <td>2.183970e+06</td>\n",
              "    </tr>\n",
              "    <tr>\n",
              "      <th>Small</th>\n",
              "      <td>11966.125</td>\n",
              "      <td>113.488916</td>\n",
              "      <td>205920.9522</td>\n",
              "      <td>2905290</td>\n",
              "      <td>2.298089e+06</td>\n",
              "    </tr>\n",
              "    <tr>\n",
              "      <th>Tier 2</th>\n",
              "      <th>Small</th>\n",
              "      <td>11931.295</td>\n",
              "      <td>56.974873</td>\n",
              "      <td>133103.9070</td>\n",
              "      <td>1863720</td>\n",
              "      <td>2.268123e+06</td>\n",
              "    </tr>\n",
              "    <tr>\n",
              "      <th rowspan=\"3\" valign=\"top\">Tier 3</th>\n",
              "      <th>High</th>\n",
              "      <td>12121.730</td>\n",
              "      <td>55.879859</td>\n",
              "      <td>131809.0156</td>\n",
              "      <td>1851884</td>\n",
              "      <td>2.142664e+06</td>\n",
              "    </tr>\n",
              "    <tr>\n",
              "      <th>Medium</th>\n",
              "      <td>11946.465</td>\n",
              "      <td>111.426219</td>\n",
              "      <td>262192.4470</td>\n",
              "      <td>3720327</td>\n",
              "      <td>5.305749e+06</td>\n",
              "    </tr>\n",
              "    <tr>\n",
              "      <th>Small</th>\n",
              "      <td>7166.800</td>\n",
              "      <td>56.308832</td>\n",
              "      <td>78131.5646</td>\n",
              "      <td>1108890</td>\n",
              "      <td>1.883402e+05</td>\n",
              "    </tr>\n",
              "  </tbody>\n",
              "</table>\n",
              "</div>\n",
              "      <button class=\"colab-df-convert\" onclick=\"convertToInteractive('df-9a286787-0b81-48f7-bb32-4174095b80e0')\"\n",
              "              title=\"Convert this dataframe to an interactive table.\"\n",
              "              style=\"display:none;\">\n",
              "        \n",
              "  <svg xmlns=\"http://www.w3.org/2000/svg\" height=\"24px\"viewBox=\"0 0 24 24\"\n",
              "       width=\"24px\">\n",
              "    <path d=\"M0 0h24v24H0V0z\" fill=\"none\"/>\n",
              "    <path d=\"M18.56 5.44l.94 2.06.94-2.06 2.06-.94-2.06-.94-.94-2.06-.94 2.06-2.06.94zm-11 1L8.5 8.5l.94-2.06 2.06-.94-2.06-.94L8.5 2.5l-.94 2.06-2.06.94zm10 10l.94 2.06.94-2.06 2.06-.94-2.06-.94-.94-2.06-.94 2.06-2.06.94z\"/><path d=\"M17.41 7.96l-1.37-1.37c-.4-.4-.92-.59-1.43-.59-.52 0-1.04.2-1.43.59L10.3 9.45l-7.72 7.72c-.78.78-.78 2.05 0 2.83L4 21.41c.39.39.9.59 1.41.59.51 0 1.02-.2 1.41-.59l7.78-7.78 2.81-2.81c.8-.78.8-2.07 0-2.86zM5.41 20L4 18.59l7.72-7.72 1.47 1.35L5.41 20z\"/>\n",
              "  </svg>\n",
              "      </button>\n",
              "      \n",
              "  <style>\n",
              "    .colab-df-container {\n",
              "      display:flex;\n",
              "      flex-wrap:wrap;\n",
              "      gap: 12px;\n",
              "    }\n",
              "\n",
              "    .colab-df-convert {\n",
              "      background-color: #E8F0FE;\n",
              "      border: none;\n",
              "      border-radius: 50%;\n",
              "      cursor: pointer;\n",
              "      display: none;\n",
              "      fill: #1967D2;\n",
              "      height: 32px;\n",
              "      padding: 0 0 0 0;\n",
              "      width: 32px;\n",
              "    }\n",
              "\n",
              "    .colab-df-convert:hover {\n",
              "      background-color: #E2EBFA;\n",
              "      box-shadow: 0px 1px 2px rgba(60, 64, 67, 0.3), 0px 1px 3px 1px rgba(60, 64, 67, 0.15);\n",
              "      fill: #174EA6;\n",
              "    }\n",
              "\n",
              "    [theme=dark] .colab-df-convert {\n",
              "      background-color: #3B4455;\n",
              "      fill: #D2E3FC;\n",
              "    }\n",
              "\n",
              "    [theme=dark] .colab-df-convert:hover {\n",
              "      background-color: #434B5C;\n",
              "      box-shadow: 0px 1px 3px 1px rgba(0, 0, 0, 0.15);\n",
              "      filter: drop-shadow(0px 1px 2px rgba(0, 0, 0, 0.3));\n",
              "      fill: #FFFFFF;\n",
              "    }\n",
              "  </style>\n",
              "\n",
              "      <script>\n",
              "        const buttonEl =\n",
              "          document.querySelector('#df-9a286787-0b81-48f7-bb32-4174095b80e0 button.colab-df-convert');\n",
              "        buttonEl.style.display =\n",
              "          google.colab.kernel.accessAllowed ? 'block' : 'none';\n",
              "\n",
              "        async function convertToInteractive(key) {\n",
              "          const element = document.querySelector('#df-9a286787-0b81-48f7-bb32-4174095b80e0');\n",
              "          const dataTable =\n",
              "            await google.colab.kernel.invokeFunction('convertToInteractive',\n",
              "                                                     [key], {});\n",
              "          if (!dataTable) return;\n",
              "\n",
              "          const docLinkHtml = 'Like what you see? Visit the ' +\n",
              "            '<a target=\"_blank\" href=https://colab.research.google.com/notebooks/data_table.ipynb>data table notebook</a>'\n",
              "            + ' to learn more about interactive tables.';\n",
              "          element.innerHTML = '';\n",
              "          dataTable['output_type'] = 'display_data';\n",
              "          await google.colab.output.renderOutput(dataTable, element);\n",
              "          const docLink = document.createElement('div');\n",
              "          docLink.innerHTML = docLinkHtml;\n",
              "          element.appendChild(docLink);\n",
              "        }\n",
              "      </script>\n",
              "    </div>\n",
              "  </div>\n",
              "  "
            ],
            "text/plain": [
              "                                  Item_Weight  ...  Item_Outlet_Sales\n",
              "Outlet_Location_Type Outlet_Size               ...                   \n",
              "Tier 1               Medium         12013.225  ...       2.183970e+06\n",
              "                     Small          11966.125  ...       2.298089e+06\n",
              "Tier 2               Small          11931.295  ...       2.268123e+06\n",
              "Tier 3               High           12121.730  ...       2.142664e+06\n",
              "                     Medium         11946.465  ...       5.305749e+06\n",
              "                     Small           7166.800  ...       1.883402e+05\n",
              "\n",
              "[6 rows x 5 columns]"
            ]
          },
          "metadata": {},
          "execution_count": 12
        }
      ]
    },
    {
      "cell_type": "code",
      "source": [
        "Tier2 = df['Outlet_Location_Type']=='Tier 2'\n",
        "df[Tier2].isna().sum()"
      ],
      "metadata": {
        "colab": {
          "base_uri": "https://localhost:8080/"
        },
        "id": "6GJ-68gmN5T7",
        "outputId": "b5b01d2e-1133-4740-e82f-4083a356f0e7"
      },
      "execution_count": 13,
      "outputs": [
        {
          "output_type": "execute_result",
          "data": {
            "text/plain": [
              "Item_Identifier                 0\n",
              "Item_Weight                     0\n",
              "Item_Fat_Content                0\n",
              "Item_Visibility                 0\n",
              "Item_Type                       0\n",
              "Item_MRP                        0\n",
              "Outlet_Identifier               0\n",
              "Outlet_Establishment_Year       0\n",
              "Outlet_Size                  1855\n",
              "Outlet_Location_Type            0\n",
              "Outlet_Type                     0\n",
              "Item_Outlet_Sales               0\n",
              "dtype: int64"
            ]
          },
          "metadata": {},
          "execution_count": 13
        }
      ]
    },
    {
      "cell_type": "code",
      "source": [
        "df.loc[Tier2,'Outlet_Size'] = small_Value\n",
        "#I noticed tier 2 outlet types were all small so filled in the rest small"
      ],
      "metadata": {
        "id": "LOtbPQbUOMBF"
      },
      "execution_count": 14,
      "outputs": []
    },
    {
      "cell_type": "code",
      "source": [
        "df.isna().sum()"
      ],
      "metadata": {
        "colab": {
          "base_uri": "https://localhost:8080/"
        },
        "id": "0xuDe224OYdP",
        "outputId": "f59e4041-ad0e-4d90-ecb6-6dc97256760b"
      },
      "execution_count": 15,
      "outputs": [
        {
          "output_type": "execute_result",
          "data": {
            "text/plain": [
              "Item_Identifier                 0\n",
              "Item_Weight                  1463\n",
              "Item_Fat_Content                0\n",
              "Item_Visibility                 0\n",
              "Item_Type                       0\n",
              "Item_MRP                        0\n",
              "Outlet_Identifier               0\n",
              "Outlet_Establishment_Year       0\n",
              "Outlet_Size                     0\n",
              "Outlet_Location_Type            0\n",
              "Outlet_Type                     0\n",
              "Item_Outlet_Sales               0\n",
              "dtype: int64"
            ]
          },
          "metadata": {},
          "execution_count": 15
        }
      ]
    },
    {
      "cell_type": "code",
      "source": [
        "df['Item_Fat_Content'].value_counts()\n"
      ],
      "metadata": {
        "colab": {
          "base_uri": "https://localhost:8080/"
        },
        "id": "aVR_y3lMOcXh",
        "outputId": "7263c1bf-688b-4c4a-a20b-8d549247380b"
      },
      "execution_count": 16,
      "outputs": [
        {
          "output_type": "execute_result",
          "data": {
            "text/plain": [
              "Low Fat    5089\n",
              "Regular    2889\n",
              "LF          316\n",
              "reg         117\n",
              "low fat     112\n",
              "Name: Item_Fat_Content, dtype: int64"
            ]
          },
          "metadata": {},
          "execution_count": 16
        }
      ]
    },
    {
      "cell_type": "code",
      "source": [
        "df['Item_Fat_Content'].replace({'low fat':'Low Fat','reg':'Regular','LF':'Low Fat'},inplace=True)\n",
        "df['Item_Fat_Content'].value_counts()"
      ],
      "metadata": {
        "colab": {
          "base_uri": "https://localhost:8080/"
        },
        "id": "Mg9CX6fMPkER",
        "outputId": "ae9942b1-219b-481a-f886-12b4490505a4"
      },
      "execution_count": 17,
      "outputs": [
        {
          "output_type": "execute_result",
          "data": {
            "text/plain": [
              "Low Fat    5517\n",
              "Regular    3006\n",
              "Name: Item_Fat_Content, dtype: int64"
            ]
          },
          "metadata": {},
          "execution_count": 17
        }
      ]
    },
    {
      "cell_type": "code",
      "source": [
        "#checked all the columns value counts and fixed all the inconsistent data"
      ],
      "metadata": {
        "id": "8tTLuKkYPsRT"
      },
      "execution_count": 18,
      "outputs": []
    },
    {
      "cell_type": "code",
      "source": [
        "df['Item_Weight'].describe()"
      ],
      "metadata": {
        "colab": {
          "base_uri": "https://localhost:8080/"
        },
        "id": "-QNvOMYCQlCy",
        "outputId": "9b0647de-7505-45fa-ce54-a0ebf9366d4c"
      },
      "execution_count": 19,
      "outputs": [
        {
          "output_type": "execute_result",
          "data": {
            "text/plain": [
              "count    7060.000000\n",
              "mean       12.857645\n",
              "std         4.643456\n",
              "min         4.555000\n",
              "25%         8.773750\n",
              "50%        12.600000\n",
              "75%        16.850000\n",
              "max        21.350000\n",
              "Name: Item_Weight, dtype: float64"
            ]
          },
          "metadata": {},
          "execution_count": 19
        }
      ]
    },
    {
      "cell_type": "code",
      "source": [
        "import seaborn as sns\n",
        "import matplotlib.pyplot as plt\n"
      ],
      "metadata": {
        "id": "otrS0aj0JH_5"
      },
      "execution_count": 20,
      "outputs": []
    },
    {
      "cell_type": "code",
      "source": [
        "plt.figure(figsize=(10,10))\n",
        "counts,bins,patches = plt.hist(df['Item_Outlet_Sales'],\n",
        "         bins=15,\n",
        "         label='Outlet Sales',\n",
        "         color='orange',\n",
        "         edgecolor='black',\n",
        "         orientation='horizontal')\n",
        "plt.xlabel('Count of Stores',fontsize=16)\n",
        "plt.ylabel('Sales',fontsize=16)\n",
        "plt.yticks(bins,color='green',fontsize=14)\n",
        "plt.xticks(fontsize=12)\n",
        "plt.legend();"
      ],
      "metadata": {
        "colab": {
          "base_uri": "https://localhost:8080/",
          "height": 614
        },
        "id": "FEZXeJ8XJJze",
        "outputId": "ff2a4034-9c59-4600-cc7a-0e052f62cb96"
      },
      "execution_count": 21,
      "outputs": [
        {
          "output_type": "display_data",
          "data": {
            "image/png": "[encoded data removed]",
            "text/plain": [
              "<Figure size 720x720 with 1 Axes>"
            ]
          },
          "metadata": {
            "needs_background": "light"
          }
        }
      ]
    },
    {
      "cell_type": "code",
      "source": [
        "#show  certain amount of stores that have that amount of sales"
      ],
      "metadata": {
        "id": "sYI8ZzGdtHjl"
      },
      "execution_count": 22,
      "outputs": []
    },
    {
      "cell_type": "code",
      "source": [
        "large_outlet = df['Outlet_Size']=='High'\n",
        "small_outlet = df['Outlet_Size']=='Small'\n",
        "item_price1 = df[large_outlet]['Item_Outlet_Sales']\n",
        "item_price2 = df[small_outlet]['Item_Outlet_Sales']\n",
        "np.warnings.filterwarnings('ignore', category=np.VisibleDeprecationWarning)"
      ],
      "metadata": {
        "id": "QplxwCUSbK3f"
      },
      "execution_count": 23,
      "outputs": []
    },
    {
      "cell_type": "code",
      "source": [
        "fig, axes = plt.subplots(nrows=1,ncols=1,figsize=(10,10))\n",
        "boxplot = axes.boxplot([item_price1,item_price2],\n",
        "             labels=['large_Outlet_Sales','small_Outlet_Sales'],\n",
        "             notch=True,\n",
        "             widths=.3,\n",
        "             patch_artist=True,\n",
        "             boxprops= dict(color='black',facecolor='orange'),\n",
        "             medianprops = dict(linewidth=4,color='black')\n",
        "             )\n",
        "box1 = boxplot['boxes'][0]\n",
        "box1.set_facecolor('tan')\n",
        "plt.ylabel('Money',color='green',fontsize=20)\n",
        "plt.yticks(np.arange(0,12000, step=1000),fontsize=16)\n",
        "plt.xticks(fontsize=16)\n",
        "plt.grid(color='limegreen');"
      ],
      "metadata": {
        "colab": {
          "base_uri": "https://localhost:8080/",
          "height": 604
        },
        "id": "cEheZuvDJJpj",
        "outputId": "a6a55d5c-9664-4aac-ae51-5a0a0d22aa22"
      },
      "execution_count": 24,
      "outputs": [
        {
          "output_type": "display_data",
          "data": {
            "image/png": "[encoded data removed]",
            "text/plain": [
              "<Figure size 720x720 with 1 Axes>"
            ]
          },
          "metadata": {
            "needs_background": "light"
          }
        }
      ]
    },
    {
      "cell_type": "code",
      "source": [
        "#box charts to show sales of a large outlet vs small outlet stores"
      ],
      "metadata": {
        "id": "ewrJ7rahs-iY"
      },
      "execution_count": 25,
      "outputs": []
    },
    {
      "cell_type": "code",
      "source": [
        "corr = df.corr()\n",
        "plt.figure(figsize = (10,10))\n",
        "sns.heatmap(corr,cmap='Blues', annot=True,linewidths=6,linecolor='black',annot_kws={\"fontsize\":14})\n",
        "plt.xticks(fontsize=14,rotation=30)\n",
        "plt.yticks(fontsize=14,rotation=0);"
      ],
      "metadata": {
        "colab": {
          "base_uri": "https://localhost:8080/",
          "height": 691
        },
        "id": "GPSvf2Yrfzau",
        "outputId": "86e0aa4c-45f8-41c1-c00e-76a8fea9aced"
      },
      "execution_count": 26,
      "outputs": [
        {
          "output_type": "display_data",
          "data": {
            "image/png": "[encoded data removed]",
            "text/plain": [
              "<Figure size 720x720 with 2 Axes>"
            ]
          },
          "metadata": {
            "needs_background": "light"
          }
        }
      ]
    },
    {
      "cell_type": "code",
      "source": [
        "#Correlation data to see if anything is neagtively or postively correlated"
      ],
      "metadata": {
        "id": "GLCgSaEusmjY"
      },
      "execution_count": 27,
      "outputs": []
    },
    {
      "cell_type": "code",
      "source": [
        "axes, fig = plt.subplots(nrows=1,ncols=1,figsize=(10,5))\n",
        "axes = sns.scatterplot(x=df['Item_MRP'] ,y=df['Item_Outlet_Sales'],color='orchid')\n",
        "plt.xticks(fontsize=15)\n",
        "plt.yticks(fontsize=15)\n",
        "axes.set_xlabel(\"Item Price\", fontsize = 16)\n",
        "axes.set_ylabel(\"Total Sales of item\", fontsize = 16)\n",
        "plt.xlim(left=25,right=275)\n",
        "plt.ylim(bottom=0,top=12000)\n",
        "axes.set_facecolor(color='lavenderblush')\n",
        "plt.grid(color='pink')\n",
        "plt.title('Price of Items and Total Sales ',fontsize=16,weight='bold');"
      ],
      "metadata": {
        "id": "sWYwM-WhtXaq",
        "colab": {
          "base_uri": "https://localhost:8080/",
          "height": 362
        },
        "outputId": "14d829dc-2cbf-42af-81c5-a19e4737f5a7"
      },
      "execution_count": 28,
      "outputs": [
        {
          "output_type": "display_data",
          "data": {
            "image/png": "[encoded data removed]",
            "text/plain": [
              "<Figure size 720x360 with 1 Axes>"
            ]
          },
          "metadata": {
            "needs_background": "light"
          }
        }
      ]
    },
    {
      "cell_type": "code",
      "source": [
        "#You can see a positive corellation of item price to total sales and thats what my scatter plot shows"
      ],
      "metadata": {
        "id": "xQVIVVNkKOSu"
      },
      "execution_count": 29,
      "outputs": []
    },
    {
      "cell_type": "code",
      "source": [
        "plt.figure(figsize=(10,5))\n",
        "plt.bar(df['Outlet_Establishment_Year'],df['Item_Outlet_Sales'],color='orange',width=.7)\n",
        "plt.xticks(np.arange(1985,2010,step=3),fontsize='15',rotation=45)\n",
        "plt.yticks(fontsize='15')\n",
        "plt.xlabel('Year',fontsize='16',color='green')\n",
        "plt.ylabel('Sales',fontsize='16',color='green')\n",
        "plt.grid(color='black',axis='y')\n",
        "plt.title('Sales of item Based on Year Established',fontsize='16',weight='bold');\n",
        "plt.tight_layout()"
      ],
      "metadata": {
        "id": "CIyFtNUj2M1g",
        "colab": {
          "base_uri": "https://localhost:8080/",
          "height": 369
        },
        "outputId": "24d43942-4acb-4f12-e552-3e46df418056"
      },
      "execution_count": 30,
      "outputs": [
        {
          "output_type": "display_data",
          "data": {
            "image/png": "[encoded data removed]",
            "text/plain": [
              "<Figure size 720x360 with 1 Axes>"
            ]
          },
          "metadata": {
            "needs_background": "light"
          }
        }
      ]
    },
    {
      "cell_type": "code",
      "source": [
        "#This bar chart shows sale of item based on year established."
      ],
      "metadata": {
        "id": "cRFUHRK8v85y"
      },
      "execution_count": 31,
      "outputs": []
    },
    {
      "cell_type": "code",
      "source": [
        "df['Outlet_Establishment_Year'].value_counts()"
      ],
      "metadata": {
        "colab": {
          "base_uri": "https://localhost:8080/"
        },
        "id": "XOzPI4LpwIA5",
        "outputId": "2500dc49-ab14-4f61-a02a-61e6fba641e5"
      },
      "execution_count": 32,
      "outputs": [
        {
          "output_type": "execute_result",
          "data": {
            "text/plain": [
              "1985    1463\n",
              "1987     932\n",
              "1999     930\n",
              "1997     930\n",
              "2004     930\n",
              "2002     929\n",
              "2009     928\n",
              "2007     926\n",
              "1998     555\n",
              "Name: Outlet_Establishment_Year, dtype: int64"
            ]
          },
          "metadata": {},
          "execution_count": 32
        }
      ]
    },
    {
      "cell_type": "code",
      "source": [
        "year_series = df['Outlet_Establishment_Year'].value_counts()\n",
        "year_key_sorted = year_series.keys().sort_values(ascending=True)\n",
        "year_key_sorted"
      ],
      "metadata": {
        "colab": {
          "base_uri": "https://localhost:8080/"
        },
        "id": "VDfpQeH9bqTM",
        "outputId": "ec2efd26-c491-43d0-aecd-837be1045193"
      },
      "execution_count": 33,
      "outputs": [
        {
          "output_type": "execute_result",
          "data": {
            "text/plain": [
              "Int64Index([1985, 1987, 1997, 1998, 1999, 2002, 2004, 2007, 2009], dtype='int64')"
            ]
          },
          "metadata": {},
          "execution_count": 33
        }
      ]
    },
    {
      "cell_type": "code",
      "source": [
        "mean_of_year = []\n",
        "for x in year_key_sorted:\n",
        "  df_years = df['Outlet_Establishment_Year'] == x\n",
        "  mean_of_year.append(df.loc[df_years,'Item_Outlet_Sales'].mean())\n",
        "print(mean_of_year)\n"
      ],
      "metadata": {
        "colab": {
          "base_uri": "https://localhost:8080/"
        },
        "id": "KSjLXP8tYfxR",
        "outputId": "37493782-3302-4fb3-e70e-7f13fc99a3a4"
      },
      "execution_count": 34,
      "outputs": [
        {
          "output_type": "stream",
          "name": "stdout",
          "text": [
            "[2483.6774743677356, 2298.9952555793975, 2277.8442668817192, 339.3516619819822, 2348.354634623656, 2192.3847976318607, 2438.8418660215075, 2340.67526349892, 1995.4987392241392]\n"
          ]
        }
      ]
    },
    {
      "cell_type": "code",
      "source": [
        "axes, fig = plt.subplots(nrows=1,ncols=1,figsize=(10,5))\n",
        "axes = plt.plot(year_key_sorted,mean_of_year,color='red',label='Average Sales/Year')\n",
        "plt.xticks(np.arange(1985,2010, step=3),fontsize=13)\n",
        "plt.yticks(np.arange(0,2501,step=250),fontsize=13)\n",
        "plt.xlabel('Years',fontsize=14,color='b')\n",
        "plt.ylabel('Average Sales',fontsize=14,color='b')\n",
        "plt.title(\"Average Sales based on Year\",fontsize=16)\n",
        "plt.legend(bbox_to_anchor=(1,1),fontsize=12)\n",
        "plt.grid();\n",
        "plt.tight_layout()"
      ],
      "metadata": {
        "colab": {
          "base_uri": "https://localhost:8080/",
          "height": 369
        },
        "id": "bElMu7nUWS5s",
        "outputId": "6f10eb66-bc82-430b-b37e-90d29e4fb844"
      },
      "execution_count": 35,
      "outputs": [
        {
          "output_type": "display_data",
          "data": {
            "image/png": "[encoded data removed]",
            "text/plain": [
              "<Figure size 720x360 with 1 Axes>"
            ]
          },
          "metadata": {
            "needs_background": "light"
          }
        }
      ]
    },
    {
      "cell_type": "code",
      "source": [
        "# grouped all stores by year and got average item sales."
      ],
      "metadata": {
        "id": "oilnTufIbf4K"
      },
      "execution_count": 36,
      "outputs": []
    },
    {
      "cell_type": "code",
      "source": [
        "print(df['Item_MRP'].max())\n",
        "print(df['Item_MRP'].min())"
      ],
      "metadata": {
        "id": "kg2EcGU7vLNF",
        "outputId": "f7548a5c-c98b-4ef4-9193-aab145a5f372",
        "colab": {
          "base_uri": "https://localhost:8080/"
        }
      },
      "execution_count": 37,
      "outputs": [
        {
          "output_type": "stream",
          "name": "stdout",
          "text": [
            "266.8884\n",
            "31.29\n"
          ]
        }
      ]
    },
    {
      "cell_type": "code",
      "source": [
        "mrp_series = df['Item_MRP'].value_counts()\n",
        "mrp_series_sorted = mrp_series.keys().sort_values(ascending=True)\n"
      ],
      "metadata": {
        "id": "a1dkICTgxQ_o"
      },
      "execution_count": 38,
      "outputs": []
    },
    {
      "cell_type": "code",
      "source": [
        ""
      ],
      "metadata": {
        "id": "GwvrO7nvzbhv"
      },
      "execution_count": 38,
      "outputs": []
    },
    {
      "cell_type": "code",
      "source": [
        "groups_of_prices = []\n",
        "mrp_price_avg = []\n",
        "for x in range(30,270,20):\n",
        "  mrp_price_avg.append(x)\n",
        "  df_mrp = df['Item_MRP'].between(x,x+20, inclusive='left')\n",
        "  groups_of_prices.append(df.loc[df_mrp,'Item_Outlet_Sales'].mean())"
      ],
      "metadata": {
        "id": "wXnGTl0syv8Q"
      },
      "execution_count": 39,
      "outputs": []
    },
    {
      "cell_type": "code",
      "source": [
        "groups_of_prices"
      ],
      "metadata": {
        "id": "as925MeR2cdq",
        "outputId": "88609981-c761-4e68-9ddd-ce79e0ecf5b1",
        "colab": {
          "base_uri": "https://localhost:8080/"
        }
      },
      "execution_count": 40,
      "outputs": [
        {
          "output_type": "execute_result",
          "data": {
            "text/plain": [
              "[615.6838179656534,\n",
              " 893.0475726027395,\n",
              " 1277.7104872611458,\n",
              " 1539.732317933133,\n",
              " 1862.0334214559405,\n",
              " 2178.845375346687,\n",
              " 2410.4544785169032,\n",
              " 2884.2596571976956,\n",
              " 3064.6184050632896,\n",
              " 3410.8197311064696,\n",
              " 3799.3111102505645,\n",
              " 3853.9683045044994]"
            ]
          },
          "metadata": {},
          "execution_count": 40
        }
      ]
    },
    {
      "cell_type": "code",
      "source": [
        "axes, fig = plt.subplots(nrows=1,ncols=1,figsize=(10,5))\n",
        "axes = plt.plot(mrp_price_avg,groups_of_prices,color='green',label='Sales/itemMrp')\n",
        "#plt.plot(year_key_sorted,mean_of_year,color='red',label='Average Sales/Year')\n",
        "plt.xlabel('mrp_price',fontsize=14,color='b')\n",
        "plt.ylabel('Sales',fontsize=14,color='b')\n",
        "plt.title(\"Average Sales based on mrp Price\",fontsize=16)\n",
        "plt.legend(bbox_to_anchor=(1,1),fontsize=12)\n",
        "plt.grid();\n",
        "plt.tight_layout()\n",
        "plt.savefig('mrp_avg_sales.png')\n",
        "files.download('mrp_avg_sales.png')"
      ],
      "metadata": {
        "id": "a2pEJaD7sIta",
        "outputId": "9e03c3f8-d8c4-467a-f018-0075cc934e78",
        "colab": {
          "base_uri": "https://localhost:8080/",
          "height": 369
        }
      },
      "execution_count": 41,
      "outputs": [
        {
          "output_type": "display_data",
          "data": {
            "application/javascript": [
              "\n",
              "    async function download(id, filename, size) {\n",
              "      if (!google.colab.kernel.accessAllowed) {\n",
              "        return;\n",
              "      }\n",
              "      const div = document.createElement('div');\n",
              "      const label = document.createElement('label');\n",
              "      label.textContent = `Downloading \"${filename}\": `;\n",
              "      div.appendChild(label);\n",
              "      const progress = document.createElement('progress');\n",
              "      progress.max = size;\n",
              "      div.appendChild(progress);\n",
              "      document.body.appendChild(div);\n",
              "\n",
              "      const buffers = [];\n",
              "      let downloaded = 0;\n",
              "\n",
              "      const channel = await google.colab.kernel.comms.open(id);\n",
              "      // Send a message to notify the kernel that we're ready.\n",
              "      channel.send({})\n",
              "\n",
              "      for await (const message of channel.messages) {\n",
              "        // Send a message to notify the kernel that we're ready.\n",
              "        channel.send({})\n",
              "        if (message.buffers) {\n",
              "          for (const buffer of message.buffers) {\n",
              "            buffers.push(buffer);\n",
              "            downloaded += buffer.byteLength;\n",
              "            progress.value = downloaded;\n",
              "          }\n",
              "        }\n",
              "      }\n",
              "      const blob = new Blob(buffers, {type: 'application/binary'});\n",
              "      const a = document.createElement('a');\n",
              "      a.href = window.URL.createObjectURL(blob);\n",
              "      a.download = filename;\n",
              "      div.appendChild(a);\n",
              "      a.click();\n",
              "      div.remove();\n",
              "    }\n",
              "  "
            ],
            "text/plain": [
              "<IPython.core.display.Javascript object>"
            ]
          },
          "metadata": {}
        },
        {
          "output_type": "display_data",
          "data": {
            "application/javascript": [
              "download(\"download_4d970316-32d6-4895-905d-5f28d6ddb488\", \"mrp_avg_sales.png\", 24398)"
            ],
            "text/plain": [
              "<IPython.core.display.Javascript object>"
            ]
          },
          "metadata": {}
        },
        {
          "output_type": "display_data",
          "data": {
            "image/png": "[encoded data removed]",
            "text/plain": [
              "<Figure size 720x360 with 1 Axes>"
            ]
          },
          "metadata": {
            "needs_background": "light"
          }
        }
      ]
    },
    {
      "cell_type": "code",
      "source": [
        "#average sales based on price of item"
      ],
      "metadata": {
        "id": "8aHM1xnS406L"
      },
      "execution_count": 71,
      "outputs": []
    },
    {
      "cell_type": "code",
      "source": [
        "from sklearn.model_selection import train_test_split\n",
        "from sklearn.compose import make_column_selector, make_column_transformer\n",
        "from sklearn.impute import SimpleImputer\n",
        "from sklearn.preprocessing import OneHotEncoder, StandardScaler\n",
        "from sklearn import set_config\n",
        "from sklearn.linear_model import LinearRegression\n",
        "from sklearn.pipeline import make_pipeline\n",
        "from sklearn.metrics import r2_score\n",
        "from sklearn.metrics import mean_absolute_error\n",
        "from sklearn.metrics import mean_squared_error\n",
        "from sklearn.tree import DecisionTreeRegressor"
      ],
      "metadata": {
        "id": "56oAOgpBvg7o"
      },
      "execution_count": 42,
      "outputs": []
    },
    {
      "cell_type": "code",
      "source": [
        "df.info()"
      ],
      "metadata": {
        "colab": {
          "base_uri": "https://localhost:8080/"
        },
        "id": "2aK0LnLLyeVK",
        "outputId": "4ba9f356-5507-47a4-90bd-46a94124c862"
      },
      "execution_count": 43,
      "outputs": [
        {
          "output_type": "stream",
          "name": "stdout",
          "text": [
            "<class 'pandas.core.frame.DataFrame'>\n",
            "RangeIndex: 8523 entries, 0 to 8522\n",
            "Data columns (total 12 columns):\n",
            " #   Column                     Non-Null Count  Dtype  \n",
            "---  ------                     --------------  -----  \n",
            " 0   Item_Identifier            8523 non-null   object \n",
            " 1   Item_Weight                7060 non-null   float64\n",
            " 2   Item_Fat_Content           8523 non-null   object \n",
            " 3   Item_Visibility            8523 non-null   float64\n",
            " 4   Item_Type                  8523 non-null   object \n",
            " 5   Item_MRP                   8523 non-null   float64\n",
            " 6   Outlet_Identifier          8523 non-null   object \n",
            " 7   Outlet_Establishment_Year  8523 non-null   int64  \n",
            " 8   Outlet_Size                8523 non-null   object \n",
            " 9   Outlet_Location_Type       8523 non-null   object \n",
            " 10  Outlet_Type                8523 non-null   object \n",
            " 11  Item_Outlet_Sales          8523 non-null   float64\n",
            "dtypes: float64(4), int64(1), object(7)\n",
            "memory usage: 799.2+ KB\n"
          ]
        }
      ]
    },
    {
      "cell_type": "code",
      "source": [
        "X = df.drop(columns=['Item_Outlet_Sales'])\n",
        "y = df['Item_Outlet_Sales']\n",
        "\n",
        "X_train, X_test, y_train, y_test = train_test_split(X, y, random_state=42)\n",
        "#train test split before imputing missing number data"
      ],
      "metadata": {
        "id": "dXOJztYowL_W"
      },
      "execution_count": 44,
      "outputs": []
    },
    {
      "cell_type": "code",
      "source": [
        "num_select = make_column_selector(dtype_include='number')\n",
        "cat_select = make_column_selector(dtype_include='object')\n",
        "\n",
        "num_columns = num_select(X_train)\n",
        "cat_columns = cat_select(X_train)"
      ],
      "metadata": {
        "id": "kiZuwwHUxqSa"
      },
      "execution_count": 45,
      "outputs": []
    },
    {
      "cell_type": "code",
      "source": [
        "#impute missing values used mean before \n",
        "mean_imputer = SimpleImputer()\n",
        "mean_imputer.fit(X_train[num_columns])\n",
        "\n",
        "X_train.loc[:, num_columns] = mean_imputer.transform(X_train[num_columns])\n",
        "X_test.loc[:, num_columns] = mean_imputer.transform(X_test[num_columns])"
      ],
      "metadata": {
        "id": "ns6rG27ww6Mg"
      },
      "execution_count": 46,
      "outputs": []
    },
    {
      "cell_type": "code",
      "source": [
        "print(X_train.isna().sum())"
      ],
      "metadata": {
        "colab": {
          "base_uri": "https://localhost:8080/"
        },
        "id": "iNEhrWxFy_0M",
        "outputId": "a4bfe744-61df-449c-e8c4-9033a5e70162"
      },
      "execution_count": 47,
      "outputs": [
        {
          "output_type": "stream",
          "name": "stdout",
          "text": [
            "Item_Identifier              0\n",
            "Item_Weight                  0\n",
            "Item_Fat_Content             0\n",
            "Item_Visibility              0\n",
            "Item_Type                    0\n",
            "Item_MRP                     0\n",
            "Outlet_Identifier            0\n",
            "Outlet_Establishment_Year    0\n",
            "Outlet_Size                  0\n",
            "Outlet_Location_Type         0\n",
            "Outlet_Type                  0\n",
            "dtype: int64\n"
          ]
        }
      ]
    },
    {
      "cell_type": "code",
      "source": [
        "scaler = StandardScaler()\n",
        "encoder = OneHotEncoder(sparse=False, handle_unknown='ignore')"
      ],
      "metadata": {
        "id": "ROBc2_KK0x-F"
      },
      "execution_count": 48,
      "outputs": []
    },
    {
      "cell_type": "code",
      "source": [
        "cat_tuple = (encoder, cat_columns)\n",
        "num_tuple = (scaler, num_columns)"
      ],
      "metadata": {
        "id": "TBc8muh71Q3Z"
      },
      "execution_count": 49,
      "outputs": []
    },
    {
      "cell_type": "code",
      "source": [
        "col_trans = make_column_transformer(cat_tuple, num_tuple, remainder='passthrough')\n",
        "lin_reg = LinearRegression()"
      ],
      "metadata": {
        "id": "bYFV12-Z1jDW"
      },
      "execution_count": 50,
      "outputs": []
    },
    {
      "cell_type": "code",
      "source": [
        "pipe = make_pipeline(col_trans,lin_reg)"
      ],
      "metadata": {
        "id": "c-tih9-r1y8k"
      },
      "execution_count": 51,
      "outputs": []
    },
    {
      "cell_type": "code",
      "source": [
        "pipe.fit(X_train, y_train);"
      ],
      "metadata": {
        "id": "leAL4U_6cNom"
      },
      "execution_count": 52,
      "outputs": []
    },
    {
      "cell_type": "code",
      "source": [
        "def eval_model(true, pred):\n",
        "  mse = mean_squared_error(true, pred)\n",
        "  rmse = np.sqrt(mse)\n",
        "  r2 = r2_score(true, pred)\n",
        "\n",
        "  print(f'RMSE: {rmse},\\n R^2: {r2} ')"
      ],
      "metadata": {
        "id": "trvQQ1codw8Z"
      },
      "execution_count": 53,
      "outputs": []
    },
    {
      "cell_type": "code",
      "source": [
        "print('Train Evaluation')\n",
        "eval_model(y_train, pipe.predict(X_train))\n",
        "\n",
        "print('\\nTest Evaluation')\n",
        "eval_model(y_test, pipe.predict(X_test))\n",
        "#linear regression scores"
      ],
      "metadata": {
        "colab": {
          "base_uri": "https://localhost:8080/"
        },
        "id": "wsmcIkJVd1tj",
        "outputId": "146208a6-a652-48a5-a063-fd61c11c247a"
      },
      "execution_count": 54,
      "outputs": [
        {
          "output_type": "stream",
          "name": "stdout",
          "text": [
            "Train Evaluation\n",
            "RMSE: 1016.1695733548896,\n",
            " R^2: 0.6510842854539531 \n",
            "\n",
            "Test Evaluation\n",
            "RMSE: 54229815460602.914,\n",
            " R^2: -1.0659286315578902e+21 \n"
          ]
        }
      ]
    },
    {
      "cell_type": "code",
      "source": [
        "#not very good numbers from the linear regression model\n",
        "#needs work to be usable at all in my opinion"
      ],
      "metadata": {
        "id": "Y4eopjCXeTlO"
      },
      "execution_count": 55,
      "outputs": []
    },
    {
      "cell_type": "code",
      "source": [
        "dec_tree = DecisionTreeRegressor(random_state=42)"
      ],
      "metadata": {
        "id": "mVlq-e2Ge6pi"
      },
      "execution_count": 56,
      "outputs": []
    },
    {
      "cell_type": "code",
      "source": [
        "pipe_Reg_Tree = make_pipeline(col_trans,dec_tree)\n",
        "pipe_Reg_Tree.fit(X_train, y_train);"
      ],
      "metadata": {
        "id": "PPkumh0FfPHL"
      },
      "execution_count": 57,
      "outputs": []
    },
    {
      "cell_type": "code",
      "source": [
        "print('Train Evaluation')\n",
        "eval_model(y_train, pipe_Reg_Tree.predict(X_train))\n",
        "\n",
        "print('\\nTest Evaluation')\n",
        "eval_model(y_test, pipe_Reg_Tree.predict(X_test))\n",
        "#regression tree scores"
      ],
      "metadata": {
        "colab": {
          "base_uri": "https://localhost:8080/"
        },
        "id": "idp4YhE8fYxZ",
        "outputId": "9e503ca2-1e2e-4da2-c006-24c9f9ffa3c4"
      },
      "execution_count": 58,
      "outputs": [
        {
          "output_type": "stream",
          "name": "stdout",
          "text": [
            "Train Evaluation\n",
            "RMSE: 4.96419825584149e-15,\n",
            " R^2: 1.0 \n",
            "\n",
            "Test Evaluation\n",
            "RMSE: 1478.2846017547938,\n",
            " R^2: 0.207921945047025 \n"
          ]
        }
      ]
    },
    {
      "cell_type": "code",
      "source": [
        "#way overfit also needs work to be better\n",
        "#if i had to choose would go with a regression tree its easier to tune and probalby go to random forests and go from there\n",
        "#the reason i chose regression tree is because I know i can tune it to some decent numberrs and the baseline numbers are better"
      ],
      "metadata": {
        "id": "W2oYYxvkf1ap"
      },
      "execution_count": 59,
      "outputs": []
    },
    {
      "cell_type": "code",
      "source": [
        "#below demonstrate quick improvmenet model test"
      ],
      "metadata": {
        "id": "XVuPvPhPf9Vp"
      },
      "execution_count": 60,
      "outputs": []
    },
    {
      "cell_type": "code",
      "source": [
        "# List of values to try for max_depth:\n",
        "max_depth_range = list(range(2, 36)) # will try every value between 2 and 36\n",
        "# List to store the score for each value of max_depth:\n",
        "r2 = []\n",
        "dep = []\n",
        "for depth in max_depth_range:\n",
        "    dec_tree = DecisionTreeRegressor(max_depth = depth, \n",
        "                             random_state = 42)\n",
        "    pipe_Reg_Tree = make_pipeline(col_trans,dec_tree)\n",
        "    pipe_Reg_Tree.fit(X_train, y_train)\n",
        "    score = pipe_Reg_Tree.score(X_test, y_test)\n",
        "    dep.append(depth)\n",
        "    r2.append(score)\n",
        "plt.plot(dep, r2)\n",
        "plt.ylabel('R2');\n",
        "plt.xlabel('Depth');"
      ],
      "metadata": {
        "colab": {
          "base_uri": "https://localhost:8080/",
          "height": 279
        },
        "id": "qo-lloRgguTa",
        "outputId": "3d51560e-ad19-4ebd-abe6-5955579ac7ec"
      },
      "execution_count": 61,
      "outputs": [
        {
          "output_type": "display_data",
          "data": {
            "image/png": "[encoded data removed]",
            "text/plain": [
              "<Figure size 432x288 with 1 Axes>"
            ]
          },
          "metadata": {
            "needs_background": "light"
          }
        }
      ]
    },
    {
      "cell_type": "code",
      "source": [
        "dec_tree = DecisionTreeRegressor(max_depth = 5, random_state=42)\n",
        "pipe_Reg_Tree = make_pipeline(col_trans,dec_tree)\n",
        "pipe_Reg_Tree.fit(X_train, y_train);"
      ],
      "metadata": {
        "id": "YaflDJFeg_2J"
      },
      "execution_count": 62,
      "outputs": []
    },
    {
      "cell_type": "code",
      "source": [
        "print('Train Evaluation')\n",
        "eval_model(y_train, pipe_Reg_Tree.predict(X_train))\n",
        "\n",
        "print('\\nTest Evaluation')\n",
        "eval_model(y_test, pipe_Reg_Tree.predict(X_test))\n",
        "#tuned regression tree scores"
      ],
      "metadata": {
        "colab": {
          "base_uri": "https://localhost:8080/"
        },
        "id": "ZHeDfhm3hHF5",
        "outputId": "9c76644e-06c0-4679-90b1-e58b10f40443"
      },
      "execution_count": 63,
      "outputs": [
        {
          "output_type": "stream",
          "name": "stdout",
          "text": [
            "Train Evaluation\n",
            "RMSE: 1082.281287111312,\n",
            " R^2: 0.6042066848171654 \n",
            "\n",
            "Test Evaluation\n",
            "RMSE: 1055.6851402178304,\n",
            " R^2: 0.5960564372160062 \n"
          ]
        }
      ]
    },
    {
      "cell_type": "code",
      "source": [
        "#quick improvemnt with minor adjustemnt on the decesion tree ! Better numbers!"
      ],
      "metadata": {
        "id": "QIkcUjGXirsc"
      },
      "execution_count": 64,
      "outputs": []
    },
    {
      "cell_type": "code",
      "source": [
        "from sklearn.ensemble import RandomForestRegressor"
      ],
      "metadata": {
        "id": "mL-kRJCfknQK"
      },
      "execution_count": 65,
      "outputs": []
    },
    {
      "cell_type": "code",
      "source": [
        "#number testing with simple random forest regressor"
      ],
      "metadata": {
        "id": "swNm1rDdksVu"
      },
      "execution_count": 66,
      "outputs": []
    },
    {
      "cell_type": "code",
      "source": [
        "ran_forest = RandomForestRegressor(random_state=42)\n",
        "pipe_ran_forest = make_pipeline(col_trans,ran_forest)\n",
        "pipe_ran_forest.fit(X_train, y_train);"
      ],
      "metadata": {
        "id": "YdvG_uTskv7v"
      },
      "execution_count": 67,
      "outputs": []
    },
    {
      "cell_type": "code",
      "source": [
        "print('Train Evaluation')\n",
        "eval_model(y_train, pipe_ran_forest.predict(X_train))\n",
        "\n",
        "print('\\nTest Evaluation')\n",
        "eval_model(y_test, pipe_ran_forest.predict(X_test))\n",
        "#random forest scores"
      ],
      "metadata": {
        "colab": {
          "base_uri": "https://localhost:8080/"
        },
        "id": "fj2ZF7llk0kb",
        "outputId": "f233dcbd-007b-41f2-e9c9-c737eb219475"
      },
      "execution_count": 68,
      "outputs": [
        {
          "output_type": "stream",
          "name": "stdout",
          "text": [
            "Train Evaluation\n",
            "RMSE: 429.38452833414783,\n",
            " R^2: 0.9377010195183058 \n",
            "\n",
            "Test Evaluation\n",
            "RMSE: 1114.8704484436212,\n",
            " R^2: 0.5494938931516191 \n"
          ]
        }
      ]
    },
    {
      "cell_type": "code",
      "source": [
        "#starting numbers best of the simple models i have used so far that were untuned\n",
        "#after a tune this way would be one of many ideal ways to proceed"
      ],
      "metadata": {
        "id": "MqQwc05TlIKr"
      },
      "execution_count": 69,
      "outputs": []
    }
  ]
}